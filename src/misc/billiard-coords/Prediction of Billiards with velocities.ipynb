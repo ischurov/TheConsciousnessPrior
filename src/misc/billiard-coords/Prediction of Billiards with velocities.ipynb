{
 "cells": [
  {
   "cell_type": "markdown",
   "metadata": {},
   "source": [
    "# Prediction of Billiards with velocities\n",
    "In this experiment, we are trying to construct a model that is able to predict the future positions of one billiard ball, given the initial position and the initial velocity. We work with coordinate of ball, not with its image, that should simplify everything drastically. The main problem is ability of the model to detect collisions with laws and learn the corresponding reflectio law.\n",
    "\n",
    "The code is written by Mehmet Kerem, modified by Ilya Schurov."
   ]
  },
  {
   "cell_type": "code",
   "execution_count": 2,
   "metadata": {},
   "outputs": [],
   "source": [
    "import sys\n",
    "import os\n",
    "sys.path.append(os.path.join('..', '..'))\n",
    "# root directory of the project\n",
    "from environments.billiards import Billiards"
   ]
  },
  {
   "cell_type": "code",
   "execution_count": 16,
   "metadata": {},
   "outputs": [],
   "source": [
    "from keras.layers import (Input, Dense, Reshape, Flatten, Permute, \n",
    "                          TimeDistributed, Activation, Lambda, multiply, \n",
    "                          subtract, concatenate)\n",
    "from keras.layers import (SimpleRNN, LSTM, GRU, Conv2D, MaxPooling2D, \n",
    "                          Bidirectional)\n",
    "from keras.models import Model\n",
    "from keras.losses import kullback_leibler_divergence\n",
    "from keras.regularizers import L1L2, Regularizer\n",
    "from keras.optimizers import RMSprop\n",
    "from keras import backend as K\n",
    "from keras.engine.topology import Layer\n",
    "import numpy as np\n",
    "\n",
    "env = Billiards(n=1)\n",
    "\n",
    "M = 10000\n",
    "# the number of samples\n",
    "\n",
    "Y = np.zeros((M, env.T, env.n, 2))\n",
    "\n",
    "# make input data from the environment\n",
    "for i in range(M):\n",
    "    env.make_steps()\n",
    "    Y[i] = env.X\n",
    "    "
   ]
  },
  {
   "cell_type": "code",
   "execution_count": 17,
   "metadata": {},
   "outputs": [
    {
     "data": {
      "text/plain": [
       "(10000, 128, 1, 2)"
      ]
     },
     "execution_count": 17,
     "metadata": {},
     "output_type": "execute_result"
    }
   ],
   "source": [
    "Y.shape"
   ]
  },
  {
   "cell_type": "code",
   "execution_count": null,
   "metadata": {},
   "outputs": [],
   "source": [
    "# 10000 samples, 128 timesteps, 1 ball, 2 coordinates"
   ]
  },
  {
   "cell_type": "code",
   "execution_count": 18,
   "metadata": {},
   "outputs": [],
   "source": [
    "X = np.copy(Y)\n",
    "X[:,1:,:,:] = 0\n",
    "# keep only the initial state\n",
    "\n",
    "X = X[:,:-1,:,:]\n",
    "# drop the last state"
   ]
  },
  {
   "cell_type": "code",
   "execution_count": 20,
   "metadata": {},
   "outputs": [
    {
     "data": {
      "text/plain": [
       "(10000, 127, 1, 2)"
      ]
     },
     "execution_count": 20,
     "metadata": {},
     "output_type": "execute_result"
    }
   ],
   "source": [
    "X.shape"
   ]
  },
  {
   "cell_type": "code",
   "execution_count": 21,
   "metadata": {},
   "outputs": [
    {
     "data": {
      "text/plain": [
       "(10000, 128, 1, 2)"
      ]
     },
     "execution_count": 21,
     "metadata": {},
     "output_type": "execute_result"
    }
   ],
   "source": [
    "Y.shape"
   ]
  },
  {
   "cell_type": "code",
   "execution_count": 22,
   "metadata": {},
   "outputs": [],
   "source": [
    "Y = np.diff(Y, axis = 1)\n",
    "# calculate the velocities\n",
    "\n",
    "X = X.reshape((X.shape[0], X.shape[1], np.prod(X.shape[2:])))\n",
    "Y = Y.reshape((Y.shape[0], Y.shape[1], np.prod(Y.shape[2:])))\n",
    "# flatten last dimensions"
   ]
  },
  {
   "cell_type": "code",
   "execution_count": 23,
   "metadata": {},
   "outputs": [
    {
     "data": {
      "text/plain": [
       "(10000, 127, 2)"
      ]
     },
     "execution_count": 23,
     "metadata": {},
     "output_type": "execute_result"
    }
   ],
   "source": [
    "X.shape"
   ]
  },
  {
   "cell_type": "code",
   "execution_count": 25,
   "metadata": {},
   "outputs": [
    {
     "data": {
      "text/plain": [
       "(10000, 127, 2)"
      ]
     },
     "execution_count": 25,
     "metadata": {},
     "output_type": "execute_result"
    }
   ],
   "source": [
    "Y.shape"
   ]
  },
  {
   "cell_type": "code",
   "execution_count": 27,
   "metadata": {},
   "outputs": [],
   "source": [
    "X = np.concatenate((X, Y), axis=-1)\n",
    "# concatenate positions and veloctiies"
   ]
  },
  {
   "cell_type": "code",
   "execution_count": 29,
   "metadata": {},
   "outputs": [
    {
     "name": "stdout",
     "output_type": "stream",
     "text": [
      "Shape of the X tensor: (10000, 127, 4)\n",
      "Shape of the Y tensor: (10000, 127, 2)\n"
     ]
    }
   ],
   "source": [
    "X[:,1:,:] = 0\n",
    "# keep only the initial timestep (position and velocity)\n",
    "\n",
    "print('Shape of the X tensor: ' + str(X.shape))\n",
    "print('Shape of the Y tensor: ' + str(Y.shape))"
   ]
  },
  {
   "cell_type": "code",
   "execution_count": 32,
   "metadata": {},
   "outputs": [
    {
     "name": "stdout",
     "output_type": "stream",
     "text": [
      "_________________________________________________________________\n",
      "Layer (type)                 Output Shape              Param #   \n",
      "=================================================================\n",
      "input_1 (InputLayer)         (None, 127, 4)            0         \n",
      "_________________________________________________________________\n",
      "gru_1 (GRU)                  (None, 127, 128)          51072     \n",
      "_________________________________________________________________\n",
      "dense_1 (Dense)              (None, 127, 2)            258       \n",
      "=================================================================\n",
      "Total params: 51,330\n",
      "Trainable params: 51,330\n",
      "Non-trainable params: 0\n",
      "_________________________________________________________________\n",
      "Train on 7500 samples, validate on 2500 samples\n",
      "Epoch 1/128\n",
      "7500/7500 [==============================] - 22s 3ms/step - loss: 1.7627 - val_loss: 1.7022\n",
      "Epoch 2/128\n",
      "7500/7500 [==============================] - 31s 4ms/step - loss: 1.6258 - val_loss: 1.8296\n",
      "Epoch 3/128\n",
      "7500/7500 [==============================] - 27s 4ms/step - loss: 1.5456 - val_loss: 2.9726\n",
      "Epoch 4/128\n",
      "7500/7500 [==============================] - 23s 3ms/step - loss: 1.6383 - val_loss: 0.6089\n",
      "Epoch 5/128\n",
      "7500/7500 [==============================] - 20s 3ms/step - loss: 1.7979 - val_loss: 1.4795\n",
      "Epoch 6/128\n",
      "7500/7500 [==============================] - 27s 4ms/step - loss: 1.5763 - val_loss: 1.5311\n",
      "Epoch 7/128\n",
      "7500/7500 [==============================] - 23s 3ms/step - loss: 1.4405 - val_loss: 0.8061\n",
      "Epoch 8/128\n",
      "7500/7500 [==============================] - 27s 4ms/step - loss: 1.4419 - val_loss: 3.4609\n",
      "Epoch 9/128\n",
      "7500/7500 [==============================] - 30s 4ms/step - loss: 1.8745 - val_loss: 1.4920\n",
      "Epoch 10/128\n",
      "7500/7500 [==============================] - 39s 5ms/step - loss: 1.5280 - val_loss: 1.5411\n",
      "Epoch 11/128\n",
      "7500/7500 [==============================] - 25s 3ms/step - loss: 1.5326 - val_loss: 1.4024\n",
      "Epoch 12/128\n",
      "7500/7500 [==============================] - 21s 3ms/step - loss: 1.7748 - val_loss: 1.6621\n",
      "Epoch 13/128\n",
      "7500/7500 [==============================] - 22s 3ms/step - loss: 1.3923 - val_loss: 1.8176\n",
      "Epoch 14/128\n",
      "7500/7500 [==============================] - 22s 3ms/step - loss: 1.4848 - val_loss: 3.3410\n",
      "Epoch 15/128\n",
      "7500/7500 [==============================] - 21s 3ms/step - loss: 1.9387 - val_loss: 1.5708\n",
      "Epoch 16/128\n",
      "7500/7500 [==============================] - 26s 3ms/step - loss: 1.5433 - val_loss: 1.6172\n",
      "Epoch 17/128\n",
      "7500/7500 [==============================] - 27s 4ms/step - loss: 1.5440 - val_loss: 1.6344\n",
      "Epoch 18/128\n",
      "7500/7500 [==============================] - 29s 4ms/step - loss: 1.6935 - val_loss: 1.9017\n",
      "Epoch 19/128\n",
      "7500/7500 [==============================] - 24s 3ms/step - loss: 1.7000 - val_loss: 1.4477\n",
      "Epoch 20/128\n",
      "7500/7500 [==============================] - 23s 3ms/step - loss: 1.7257 - val_loss: 1.6908\n",
      "Epoch 21/128\n",
      "7500/7500 [==============================] - 21s 3ms/step - loss: 1.5054 - val_loss: 1.8411\n",
      "Epoch 22/128\n",
      "7500/7500 [==============================] - 21s 3ms/step - loss: 1.5433 - val_loss: 3.1149\n",
      "Epoch 23/128\n",
      "7500/7500 [==============================] - 20s 3ms/step - loss: 1.8864 - val_loss: 1.5847\n",
      "Epoch 24/128\n",
      "7500/7500 [==============================] - 19s 3ms/step - loss: 1.5303 - val_loss: 0.7772\n",
      "Epoch 25/128\n",
      "7500/7500 [==============================] - 19s 3ms/step - loss: 1.2273 - val_loss: 2.7196\n",
      "Epoch 26/128\n",
      "7500/7500 [==============================] - 21s 3ms/step - loss: 1.3646 - val_loss: 0.6756\n",
      "Epoch 27/128\n",
      "7500/7500 [==============================] - 23s 3ms/step - loss: 1.0588 - val_loss: 1.3838\n",
      "Epoch 28/128\n",
      "7500/7500 [==============================] - 25s 3ms/step - loss: 1.0400 - val_loss: 0.9209\n",
      "Epoch 29/128\n",
      "7500/7500 [==============================] - 21s 3ms/step - loss: 0.9852 - val_loss: 1.0353\n",
      "Epoch 30/128\n",
      "7500/7500 [==============================] - 20s 3ms/step - loss: 0.9617 - val_loss: 0.8932\n",
      "Epoch 31/128\n",
      "7500/7500 [==============================] - 19s 3ms/step - loss: 0.9358 - val_loss: 0.9863\n",
      "Epoch 32/128\n",
      "7500/7500 [==============================] - 19s 3ms/step - loss: 0.9331 - val_loss: 0.8733\n",
      "Epoch 33/128\n",
      "7500/7500 [==============================] - 20s 3ms/step - loss: 0.9190 - val_loss: 0.8750\n",
      "Epoch 34/128\n",
      "7500/7500 [==============================] - 24s 3ms/step - loss: 0.9086 - val_loss: 0.8365\n",
      "Epoch 35/128\n",
      "7500/7500 [==============================] - 22s 3ms/step - loss: 0.8964 - val_loss: 1.1102\n",
      "Epoch 36/128\n",
      "7500/7500 [==============================] - 35s 5ms/step - loss: 0.9087 - val_loss: 0.7716\n",
      "Epoch 37/128\n",
      "7500/7500 [==============================] - 26s 3ms/step - loss: 0.8881 - val_loss: 0.7177\n",
      "Epoch 38/128\n",
      "7500/7500 [==============================] - 24s 3ms/step - loss: 0.8809 - val_loss: 0.7423\n",
      "Epoch 39/128\n",
      "7500/7500 [==============================] - 28s 4ms/step - loss: 0.8781 - val_loss: 0.7640\n",
      "Epoch 40/128\n",
      "7500/7500 [==============================] - 22s 3ms/step - loss: 0.8749 - val_loss: 0.7398\n",
      "Epoch 41/128\n",
      "7500/7500 [==============================] - 21s 3ms/step - loss: 0.8773 - val_loss: 0.7846\n",
      "Epoch 42/128\n",
      "7500/7500 [==============================] - 29s 4ms/step - loss: 0.8676 - val_loss: 0.7222\n",
      "Epoch 43/128\n",
      "7500/7500 [==============================] - 24s 3ms/step - loss: 0.8775 - val_loss: 0.6635\n",
      "Epoch 44/128\n",
      "7500/7500 [==============================] - 28s 4ms/step - loss: 0.8600 - val_loss: 0.6739\n",
      "Epoch 45/128\n",
      "7500/7500 [==============================] - 20s 3ms/step - loss: 0.8546 - val_loss: 0.6610\n",
      "Epoch 46/128\n",
      "7500/7500 [==============================] - 23s 3ms/step - loss: 0.8435 - val_loss: 0.6726\n",
      "Epoch 47/128\n",
      "7500/7500 [==============================] - 21s 3ms/step - loss: 0.8537 - val_loss: 0.5892\n",
      "Epoch 48/128\n",
      "7500/7500 [==============================] - 21s 3ms/step - loss: 0.8359 - val_loss: 0.6569\n",
      "Epoch 49/128\n",
      "7500/7500 [==============================] - 20s 3ms/step - loss: 0.8410 - val_loss: 0.5535\n",
      "Epoch 50/128\n",
      "7500/7500 [==============================] - 19s 3ms/step - loss: 0.8325 - val_loss: 0.6059\n",
      "Epoch 51/128\n",
      "7500/7500 [==============================] - 20s 3ms/step - loss: 0.8139 - val_loss: 0.7251\n",
      "Epoch 52/128\n",
      "7500/7500 [==============================] - 25s 3ms/step - loss: 0.8177 - val_loss: 0.7309\n",
      "Epoch 53/128\n",
      "7500/7500 [==============================] - 32s 4ms/step - loss: 0.7911 - val_loss: 1.1268\n",
      "Epoch 54/128\n",
      "7500/7500 [==============================] - 26s 3ms/step - loss: 0.8066 - val_loss: 1.0313\n",
      "Epoch 55/128\n",
      "7500/7500 [==============================] - 26s 3ms/step - loss: 0.8054 - val_loss: 1.0538\n",
      "Epoch 56/128\n",
      "7500/7500 [==============================] - 24s 3ms/step - loss: 0.8190 - val_loss: 0.7701\n",
      "Epoch 57/128\n",
      "7500/7500 [==============================] - 22s 3ms/step - loss: 0.8190 - val_loss: 0.6780\n",
      "Epoch 58/128\n",
      "7500/7500 [==============================] - 21s 3ms/step - loss: 0.8130 - val_loss: 0.5930\n",
      "Epoch 59/128\n",
      "7500/7500 [==============================] - 21s 3ms/step - loss: 0.8051 - val_loss: 0.5585\n",
      "Epoch 60/128\n",
      "7500/7500 [==============================] - 22s 3ms/step - loss: 0.7937 - val_loss: 0.6257\n",
      "Epoch 61/128\n",
      "7500/7500 [==============================] - 20s 3ms/step - loss: 0.7853 - val_loss: 0.6959\n",
      "Epoch 62/128\n",
      "7500/7500 [==============================] - 22s 3ms/step - loss: 0.7862 - val_loss: 0.6876\n",
      "Epoch 63/128\n",
      "7500/7500 [==============================] - 20s 3ms/step - loss: 0.7684 - val_loss: 0.8825\n",
      "Epoch 64/128\n",
      "7500/7500 [==============================] - 21s 3ms/step - loss: 0.7684 - val_loss: 0.8800\n",
      "Epoch 65/128\n",
      "7500/7500 [==============================] - 20s 3ms/step - loss: 0.7675 - val_loss: 1.0754\n",
      "Epoch 66/128\n",
      "7500/7500 [==============================] - 21s 3ms/step - loss: 0.7636 - val_loss: 0.9682\n",
      "Epoch 67/128\n",
      "7500/7500 [==============================] - 20s 3ms/step - loss: 0.7643 - val_loss: 1.0016\n",
      "Epoch 68/128\n",
      "7500/7500 [==============================] - 23s 3ms/step - loss: 0.7767 - val_loss: 0.7764\n",
      "Epoch 69/128\n",
      "7500/7500 [==============================] - 21s 3ms/step - loss: 0.7679 - val_loss: 0.7221\n",
      "Epoch 70/128\n",
      "7500/7500 [==============================] - 20s 3ms/step - loss: 0.7690 - val_loss: 0.5680\n",
      "Epoch 71/128\n"
     ]
    },
    {
     "name": "stdout",
     "output_type": "stream",
     "text": [
      "7500/7500 [==============================] - 20s 3ms/step - loss: 0.7672 - val_loss: 0.5159\n",
      "Epoch 72/128\n",
      "7500/7500 [==============================] - 23s 3ms/step - loss: 0.7491 - val_loss: 0.5564\n",
      "Epoch 73/128\n",
      "7500/7500 [==============================] - 25s 3ms/step - loss: 0.7538 - val_loss: 0.4937\n",
      "Epoch 74/128\n",
      "7500/7500 [==============================] - 27s 4ms/step - loss: 0.7410 - val_loss: 0.6159\n",
      "Epoch 75/128\n",
      "7500/7500 [==============================] - 24s 3ms/step - loss: 0.7299 - val_loss: 0.6673\n",
      "Epoch 76/128\n",
      "7500/7500 [==============================] - 31s 4ms/step - loss: 0.7346 - val_loss: 0.6748\n",
      "Epoch 77/128\n",
      "7500/7500 [==============================] - 26s 4ms/step - loss: 0.7218 - val_loss: 0.7049\n",
      "Epoch 78/128\n",
      "7500/7500 [==============================] - 22s 3ms/step - loss: 0.7264 - val_loss: 0.6712\n",
      "Epoch 79/128\n",
      "7500/7500 [==============================] - 22s 3ms/step - loss: 0.7186 - val_loss: 0.6958\n",
      "Epoch 80/128\n",
      "7500/7500 [==============================] - 22s 3ms/step - loss: 0.7215 - val_loss: 0.6752\n",
      "Epoch 81/128\n",
      "7500/7500 [==============================] - 23s 3ms/step - loss: 0.7082 - val_loss: 0.7888\n",
      "Epoch 82/128\n",
      "7500/7500 [==============================] - 23s 3ms/step - loss: 0.7156 - val_loss: 0.7341\n",
      "Epoch 83/128\n",
      "7500/7500 [==============================] - 32s 4ms/step - loss: 0.7047 - val_loss: 0.7565\n",
      "Epoch 84/128\n",
      "7500/7500 [==============================] - 29s 4ms/step - loss: 0.7038 - val_loss: 0.7470\n",
      "Epoch 85/128\n",
      "7500/7500 [==============================] - 30s 4ms/step - loss: 0.7043 - val_loss: 0.7328\n",
      "Epoch 86/128\n",
      "7500/7500 [==============================] - 20s 3ms/step - loss: 0.6979 - val_loss: 0.7197\n",
      "Epoch 87/128\n",
      "7500/7500 [==============================] - 24s 3ms/step - loss: 0.6933 - val_loss: 0.6663\n",
      "Epoch 88/128\n",
      "7500/7500 [==============================] - 20s 3ms/step - loss: 0.6932 - val_loss: 0.6074\n",
      "Epoch 89/128\n",
      "7500/7500 [==============================] - 53s 7ms/step - loss: 0.6988 - val_loss: 0.4654\n",
      "Epoch 90/128\n",
      "7500/7500 [==============================] - 31s 4ms/step - loss: 0.6858 - val_loss: 0.5526\n",
      "Epoch 91/128\n",
      "7500/7500 [==============================] - 31s 4ms/step - loss: 0.6884 - val_loss: 0.4678\n",
      "Epoch 92/128\n",
      "7500/7500 [==============================] - 26s 3ms/step - loss: 0.6803 - val_loss: 0.5802\n",
      "Epoch 93/128\n",
      "7500/7500 [==============================] - 23s 3ms/step - loss: 0.6777 - val_loss: 0.5126\n",
      "Epoch 94/128\n",
      "7500/7500 [==============================] - 27s 4ms/step - loss: 0.6663 - val_loss: 0.6569\n",
      "Epoch 95/128\n",
      "7500/7500 [==============================] - 22s 3ms/step - loss: 0.6780 - val_loss: 0.7718\n",
      "Epoch 96/128\n",
      "7500/7500 [==============================] - 21s 3ms/step - loss: 0.6795 - val_loss: 0.7495\n",
      "Epoch 97/128\n",
      "7500/7500 [==============================] - 19s 3ms/step - loss: 0.6740 - val_loss: 0.8290\n",
      "Epoch 98/128\n",
      "7500/7500 [==============================] - 19s 3ms/step - loss: 0.6701 - val_loss: 0.6444\n",
      "Epoch 99/128\n",
      "7500/7500 [==============================] - 24s 3ms/step - loss: 0.6653 - val_loss: 0.5473\n",
      "Epoch 100/128\n",
      "7500/7500 [==============================] - 29s 4ms/step - loss: 0.6606 - val_loss: 0.6758\n",
      "Epoch 101/128\n",
      "7500/7500 [==============================] - 29s 4ms/step - loss: 0.6619 - val_loss: 0.8008\n",
      "Epoch 102/128\n",
      "7500/7500 [==============================] - 22s 3ms/step - loss: 0.6626 - val_loss: 0.6507\n",
      "Epoch 103/128\n",
      "7500/7500 [==============================] - 24s 3ms/step - loss: 0.6565 - val_loss: 0.4918\n",
      "Epoch 104/128\n",
      "7500/7500 [==============================] - 21s 3ms/step - loss: 0.6408 - val_loss: 0.6874\n",
      "Epoch 105/128\n",
      "7500/7500 [==============================] - 23s 3ms/step - loss: 0.6539 - val_loss: 0.6921\n",
      "Epoch 106/128\n",
      "7500/7500 [==============================] - 26s 4ms/step - loss: 0.6502 - val_loss: 0.7667\n",
      "Epoch 107/128\n",
      "7500/7500 [==============================] - 21s 3ms/step - loss: 0.6513 - val_loss: 0.5996\n",
      "Epoch 108/128\n",
      "7500/7500 [==============================] - 22s 3ms/step - loss: 0.6391 - val_loss: 0.5570\n",
      "Epoch 109/128\n",
      "7500/7500 [==============================] - 20s 3ms/step - loss: 0.6410 - val_loss: 0.5476\n",
      "Epoch 110/128\n",
      "7500/7500 [==============================] - 22s 3ms/step - loss: 0.6352 - val_loss: 0.6809\n",
      "Epoch 111/128\n",
      "7500/7500 [==============================] - 20s 3ms/step - loss: 0.6315 - val_loss: 0.7720\n",
      "Epoch 112/128\n",
      "7500/7500 [==============================] - 20s 3ms/step - loss: 0.6401 - val_loss: 0.6147\n",
      "Epoch 113/128\n",
      "7500/7500 [==============================] - 22s 3ms/step - loss: 0.6343 - val_loss: 0.5895\n",
      "Epoch 114/128\n",
      "7500/7500 [==============================] - 20s 3ms/step - loss: 0.6285 - val_loss: 0.6506\n",
      "Epoch 115/128\n",
      "7500/7500 [==============================] - 20s 3ms/step - loss: 0.6222 - val_loss: 0.6597\n",
      "Epoch 116/128\n",
      "7500/7500 [==============================] - 21s 3ms/step - loss: 0.6274 - val_loss: 0.6030\n",
      "Epoch 117/128\n",
      "7500/7500 [==============================] - 22s 3ms/step - loss: 0.6194 - val_loss: 0.7048\n",
      "Epoch 118/128\n",
      "7500/7500 [==============================] - 22s 3ms/step - loss: 0.6226 - val_loss: 0.6189\n",
      "Epoch 119/128\n",
      "7500/7500 [==============================] - 21s 3ms/step - loss: 0.6109 - val_loss: 0.5772\n",
      "Epoch 120/128\n",
      "7500/7500 [==============================] - 26s 4ms/step - loss: 0.6169 - val_loss: 0.5891\n",
      "Epoch 121/128\n",
      "7500/7500 [==============================] - 26s 4ms/step - loss: 0.6204 - val_loss: 0.4907\n",
      "Epoch 122/128\n",
      "7500/7500 [==============================] - 27s 4ms/step - loss: 0.6060 - val_loss: 0.6452\n",
      "Epoch 123/128\n",
      "7500/7500 [==============================] - 28s 4ms/step - loss: 0.5992 - val_loss: 0.7156\n",
      "Epoch 124/128\n",
      "7500/7500 [==============================] - 30s 4ms/step - loss: 0.6103 - val_loss: 0.5691\n",
      "Epoch 125/128\n",
      "7500/7500 [==============================] - 33s 4ms/step - loss: 0.6090 - val_loss: 0.5000\n",
      "Epoch 126/128\n",
      "7500/7500 [==============================] - 24s 3ms/step - loss: 0.5967 - val_loss: 0.6352\n",
      "Epoch 127/128\n",
      "7500/7500 [==============================] - 22s 3ms/step - loss: 0.5934 - val_loss: 0.7058\n",
      "Epoch 128/128\n",
      "7500/7500 [==============================] - 22s 3ms/step - loss: 0.6033 - val_loss: 0.5568\n"
     ]
    }
   ],
   "source": [
    "## Create a predictor network\n",
    "iD = Input(shape=X.shape[1:])\n",
    "xD = iD\n",
    "# xD = Dense(16, activation='relu')(xD) # Add a transformer layer in front\n",
    "# xD = Bidirectional(GRU(128, return_sequences = True))(xD)\n",
    "xD = GRU(128, return_sequences = True)(xD)\n",
    "xD = Dense(Y.shape[2], activation='linear')(xD)\n",
    "model = Model(inputs=iD, outputs=[xD], name='Predictor')\n",
    "rmsprop = RMSprop(lr=1e-3)\n",
    "model.compile(optimizer=rmsprop, loss=['mse'])\n",
    "model.summary()\n",
    "history = model.fit(X, Y, epochs=128, batch_size = 512, \n",
    "                    validation_split = 0.25)"
   ]
  },
  {
   "cell_type": "code",
   "execution_count": 36,
   "metadata": {},
   "outputs": [],
   "source": [
    "import matplotlib.pyplot as plt\n",
    "%matplotlib inline"
   ]
  },
  {
   "cell_type": "code",
   "execution_count": 37,
   "metadata": {},
   "outputs": [],
   "source": [
    "def plot_balls(traj, mode='-', ax=None, label=None):\n",
    "    tr = traj.reshape(-1, 1, 2)\n",
    "    for i in range(1):\n",
    "        if ax is None:\n",
    "            plt.plot(tr[:, i, 0], tr[:, i, 1], mode, label=label)\n",
    "        else:\n",
    "            ax.plot(tr[:, i, 0], tr[:, i, 1], mode, label=label)"
   ]
  },
  {
   "cell_type": "code",
   "execution_count": 73,
   "metadata": {},
   "outputs": [
    {
     "data": {
      "image/png": "[encoded data removed]",
      "text/plain": [
       "<matplotlib.figure.Figure at 0x12d09eac8>"
      ]
     },
     "metadata": {},
     "output_type": "display_data"
    }
   ],
   "source": [
    "sample = 1\n",
    "plot_balls(model.predict(X[sample:sample+1]).cumsum(axis=1))\n",
    "plot_balls(Y[sample:sample+1].cumsum(axis=1))"
   ]
  }
 ],
 "metadata": {
  "kernelspec": {
   "display_name": "Python 3",
   "language": "python",
   "name": "python3"
  },
  "language_info": {
   "codemirror_mode": {
    "name": "ipython",
    "version": 3
   },
   "file_extension": ".py",
   "mimetype": "text/x-python",
   "name": "python",
   "nbconvert_exporter": "python",
   "pygments_lexer": "ipython3",
   "version": "3.6.1"
  }
 },
 "nbformat": 4,
 "nbformat_minor": 2
}
